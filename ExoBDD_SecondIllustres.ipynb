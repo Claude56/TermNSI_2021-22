{
 "cells": [
  {
   "cell_type": "markdown",
   "metadata": {},
   "source": [
    "<h1 style=\"color: navy\">Term NSI: Synthèse sur les bases de données relationnelles</h1>"
   ]
  },
  {
   "cell_type": "markdown",
   "metadata": {},
   "source": [
    "Cette activité s'inspire du sujet 0: 2021 <br/>\n",
    "Objectifs: créer à partir d'un fichier 'Seconde.csv' une base de donnée 'ScdeIllustre.db' avec Sqlite et Python. Puis tester des requêtes SQL sur cette base de données.  \n",
    "Indications: Le fichier (.csv) proposé, comprend sur ses deux premières lignes les informations suivantes: \n",
    "* => la désignation des tables;\n",
    "* => le détail des colonnes des tables (avec comme séparateur entre les tables: => ;;)  \n",
    "Le reste des lignes constitue les enregistrements des tables."
   ]
  },
  {
   "cell_type": "markdown",
   "metadata": {},
   "source": [
    "<h2 class='fa fa-cog' style=\"color: SeaGreen\"> Création de la BDD: \"ScdeIllustre.db\"  </h2> <br/><br/>\n",
    "<span style=\"color: red\"><big>Remarque préliminaire: <br/>\n",
    "    Bien que l'activité soit présentée avec un notebook Jupyter (ce qui permet de tester les fonctions une par une), il est conseillé de construire un script Python comprenant ses modules dédiés: createBDD et miniclientSQL .<big></span><br/>\n",
    "<h3 style =\"color: blue\">Assembler dans un module 'createBDD' les fonctions suivantes, afin de créer la bdd => \"ScdeIllustre.db\"</h3> \n",
    "    <h4 style =\"color: teal\">=> Ajouter des commentaires aux fonctions proposées:</h4>"
   ]
  },
  {
   "cell_type": "code",
   "execution_count": null,
   "metadata": {},
   "outputs": [],
   "source": [
    "with open(\"Seconde.csv\", \"r\") as data:\n",
    "    for ligne in data:\n",
    "        print(ligne)"
   ]
  },
  {
   "cell_type": "code",
   "execution_count": null,
   "metadata": {},
   "outputs": [],
   "source": [
    "with open(\"Seconde.csv\", \"r\") as data:\n",
    "    data.readline()\n",
    "    data.readline()\n",
    "    for ligne in data:\n",
    "        print(ligne[0:-1])"
   ]
  },
  {
   "cell_type": "code",
   "execution_count": null,
   "metadata": {},
   "outputs": [],
   "source": [
    "with open(\"Seconde.csv\", \"r\") as data:\n",
    "    tables= data.readline().split(';')\n",
    "    colonnes= data.readline().split(';')\n",
    "    print(tables)\n",
    "    print(colonnes)"
   ]
  },
  {
   "cell_type": "code",
   "execution_count": null,
   "metadata": {},
   "outputs": [],
   "source": [
    "lsTable = tables[0:-1]\n",
    "lsTable"
   ]
  },
  {
   "cell_type": "code",
   "execution_count": null,
   "metadata": {},
   "outputs": [],
   "source": [
    "#Syntaxe sqlite pour la création de la table (ou relation) 'Seconde':\n",
    "create_table=\\\n",
    "\"\"\"DROP TABLE IF EXISTS {};\"\"\".format(lsTable[0])\\\n",
    "+ \"\"\"\\nCREATE TABLE {}\"\"\".format(lsTable[0])\\\n",
    "+ \"\"\" (Sec_Id INTEGER PRIMARY KEY AUTOINCREMENT \"\"\"\n",
    "for col in col_table1:\n",
    "    create_table = create_table + ',\\n'+ col +' TEXT'\n",
    "create_table = create_table +');'\n",
    "print(create_table)"
   ]
  },
  {
   "cell_type": "code",
   "execution_count": null,
   "metadata": {},
   "outputs": [],
   "source": [
    "#Syntaxe pour peupler la table (avec des enregistrements):\n",
    "peuple_table=\\\n",
    "\"INSERT INTO {} {}\".format(lsTable[0],tuple(col_table1)) + \" VALUES ({}?)\".format(\"?, \"*(len(col_table1)-1))  \n",
    "print(peuple_table)"
   ]
  },
  {
   "cell_type": "code",
   "execution_count": null,
   "metadata": {},
   "outputs": [],
   "source": [
    "#Syntaxe sqlite pour la création de la table (ou relation) 'Eleve':\n",
    "create_table1=\\\n",
    "\"\"\"DROP TABLE IF EXISTS {};\"\"\".format(lsTable[1])\\\n",
    "+ \"\"\"\\nCREATE TABLE {}\"\"\".format(lsTable[1])\\\n",
    "+ \"\"\" (El_Id INTEGER PRIMARY KEY AUTOINCREMENT \"\"\"\n",
    "for col in col_table2:\n",
    "    create_table1 = create_table1 + ',\\n'+ col +' TEXT'\n",
    "create_table1 = create_table1 + ',\\nFOREIGN KEY (El_Id) REFERENCES {} (Sec_Id));'.format(lsTable[0])\n",
    "print(create_table1)"
   ]
  },
  {
   "cell_type": "code",
   "execution_count": null,
   "metadata": {},
   "outputs": [],
   "source": [
    "#Syntaxe pour peupler la table (avec des enregistrements):\n",
    "peuple_table1=\\\n",
    "\"INSERT INTO {} {}\".format(lsTable[1],tuple(col_table2)) + \" VALUES ({}?)\".format(\"?, \"*(len(col_table2)-1))  \n",
    "print(peuple_table1)"
   ]
  },
  {
   "cell_type": "code",
   "execution_count": null,
   "metadata": {},
   "outputs": [],
   "source": [
    "import sqlite3\n",
    "\n",
    "# Connexion à la BDD \"ScdeIllustre\":\n",
    "dbNameFile = \"ScdeIllustre.db\"  # ou .sq3; .db; .txt\n",
    "conn =sqlite3.connect(dbNameFile)\n",
    "\n",
    "#Mise en place du curseur:\n",
    "cur =conn.cursor()\n",
    "\n",
    "#Création des tables: (Note: elles sont d'abord effacées!)\n",
    "=> A compléter: Voir https://www.sqlitetutorial.net/sqlite-python/\n",
    "\n",
    "#Peupler les tables: \n",
    "=> A compléter: Voir https://www.sqlitetutorial.net/sqlite-python/\n",
    "\n",
    "print (f'Vérification des enregistrements :\\n\\n\\t Table => {lsTable[0]}:')\n",
    "for enregist in cur.execute(\"SELECT * FROM {}\".format(lsTable[0])):\n",
    "    print(enregist) \n",
    "print (f'Vérification des enregistrements :\\n\\n\\t Table => {lsTable[1]}:')\n",
    "for enregist in cur.execute(\"SELECT * FROM {}\".format(lsTable[1])):\n",
    "    print(enregist)\n",
    "# Validation:\n",
    "if input('\\nValider? => o/n ') == 'o':  \n",
    "    conn.commit()\n",
    "cur.close() # Fermeture du curseur\n",
    "conn.close() # Fermeture de la connexion à la base"
   ]
  },
  {
   "cell_type": "markdown",
   "metadata": {},
   "source": [
    "<h2 class='fa fa-cog' style=\"color: SeaGreen\"> Création d'un miniclient SQL  </h2> <br/>\n",
    "<h3 style =\"color: blue\"> => Créer un module 'miniclientSQL'</h3> \n",
    "<h4 style =\"color: teal\">=> Compléter avec vos commentaires:</h4>"
   ]
  },
  {
   "cell_type": "code",
   "execution_count": null,
   "metadata": {},
   "outputs": [],
   "source": [
    "'''Mini client d'une petite base de données,\n",
    "    pour tester les requêtes SQL\n",
    "'''\n",
    "\n",
    "import sqlite3\n",
    "import os\n",
    "\n",
    "# Connexion à la BDD:\n",
    "while True:\n",
    "    dbNameFile = input(\"Entrer le nom+extension (.db par défaut) de la BDD (attention au chemin) : \") \n",
    "    if '.' not in dbNameFile :\n",
    "        dbNameFile=dbNameFile+'.db'\n",
    "    if os.path.exists(dbNameFile):\n",
    "        break\n",
    "    print(\"Veuillez saisir un nom de BDD valide !\") \n",
    "=> Partie à compléter...\n",
    "#Mise en place du curseur:\n",
    "=> Partie à compléter...\n",
    "\n",
    "requete = ''\n",
    "while requete != 'q' or 'Q':\n",
    "    requete = input(\"\\n Veuillez entrer votre requête SQL ('q' ou 'Q' pour quitter): \")\n",
    "    if requete == 'q' or requete == 'Q':\n",
    "        print(\" => Fin \")\n",
    "        break\n",
    "    try:\n",
    "        cur.execute(requete) # exécution de la requête SQL\n",
    "    except:\n",
    "        print('*** Requête SQL incorrecte ***')\n",
    "    else:\n",
    "        for retour in cur:\n",
    "            print (retour) # Affichage du résultat\n",
    "\n",
    "choix = input(\"Enregistrer l'état actuel de la BDD ? o/n (oui/non) \")\n",
    "if choix[0] == \"o\" or choix[0] == \"O\":\n",
    "    conn.commit()\n",
    "conn.close()"
   ]
  },
  {
   "cell_type": "markdown",
   "metadata": {},
   "source": [
    "<h2 class='fa fa-cog' style=\"color: SeaGreen\"> Tester vos requêtes SQL:  </h2> <br/>\n",
    "<h3 style =\"color: blue\"> => Reprendre les requêtes demandées dans l'exercice du sujet du bac blanc: la bdd ScdeIllustre comprend des erreurs à corriger, comme pour l'exercice du bac blanc</h3> \n",
    "<h4 style =\"color: teal\">=> A voir aussi:<a href=\"https://www.lumni.fr/video/interrogation-d-une-base-de-donnees-relationnelle\"> ce lien pour explorer le vocabulaire et la syntaxe des requêtes</a></h4>\n",
    "<h4 style =\"color: teal\">=> Faire la liaison avec le cours sur: LesRequêtesSQL'</h4>\n",
    "<h4 style =\"color: teal\">=> Créer une colonne avec l'age des élèves, la moyenne d'age dans chaque classe etc...<br/>A voir ces liens: \n",
    "    <li><a href='https://www.sqlitetutorial.net/sqlite-date/'>  ==> Lien 1</a></li>\n",
    "    <li><a href='https://www.sqlitetutorial.net/sqlite-date-functions/sqlite-date-function/'>  ==> Lien 2</a></li>      \n",
    "</h4>\n",
    "<span style=\"color: red\"><big>Conseil: Tester au préalable la requête suivante:<br/>\n",
    "    SELECT date_naissance, date(date_naissance) FROM Seconde  <br/>\n",
    "    Ceci afin de mettre en évidence des corrections à faire dans la bdd<big></span><br/>"
   ]
  }
 ],
 "metadata": {
  "kernelspec": {
   "display_name": "Python 3",
   "language": "python",
   "name": "python3"
  },
  "language_info": {
   "codemirror_mode": {
    "name": "ipython",
    "version": 3
   },
   "file_extension": ".py",
   "mimetype": "text/x-python",
   "name": "python",
   "nbconvert_exporter": "python",
   "pygments_lexer": "ipython3",
   "version": "3.6.9"
  }
 },
 "nbformat": 4,
 "nbformat_minor": 4
}
