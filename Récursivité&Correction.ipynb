{
 "cells": [
  {
   "cell_type": "markdown",
   "metadata": {},
   "source": [
    "# La récursivité - Vérification et correction d'un programme:\n",
    "- *Les cellules ci-dessous sont à compléter avec vos codes que vous aurez pris soin de commenter.*\n",
    "- *N'hésitez pas à accompagner vos codes d'une cellule (mode markdown) avec vos remarques concernant le fonctionnement attendu et réel de votre code* "
   ]
  },
  {
   "cell_type": "markdown",
   "metadata": {},
   "source": [
    "## Exercice 1: Implémentation sous forme impérative de la fonction \"puissance\":\n",
    "### Attention: exercice obligatoire!\n",
    "**Écrire une fonction : puiss(n), qui calcule la puissance « n » d'un nombre x:  $ \\quad \\Longrightarrow x^n = x \\cdot x \\cdot x \\cdot ... \\cdot x $  \n",
    "         Soit pour: x = 2  $ \\quad \\Longrightarrow  2^n = 2 \\cdot 2 \\cdot 2... \\cdot 2 $**\n",
    "         \n",
    "Exercice: Compléter le code suivant (vous pouvez aussi éditer intégralement votre propre code) :"
   ]
  },
  {
   "cell_type": "code",
   "execution_count": null,
   "metadata": {},
   "outputs": [],
   "source": [
    "def puissance (exposant):\n",
    "\"\"\" Fonction qui calcule 2 à la puissance (exposant) et qui renvoie le resultat obtenu (instruction return)\"\"\"\n",
    "    # A compléter\n",
    "    #  Ici aussi \n",
    "    #   Et là aussi pourquoi pas...\n",
    "    return resultat\n",
    "\n",
    "\n",
    "exposant = int(input(\"Entrer l'exposant de 2, souhaité:  \"))\t# Interface utilisateur: acquisition puissance\n",
    "\n",
    "resultat = puissance(exposant)\t# Appel de fonction, avec passage du paramètre \"exposant\"\n",
    "\n",
    "print (\"2 à la puissance \"+ str(exposant)+\" = \"+str(resultat))\t# Affichage du résultat"
   ]
  },
  {
   "cell_type": "markdown",
   "metadata": {},
   "source": [
    "#### Evolution du code précédent:    \n",
    "Compléter le code précédent pour permettre la saisie par l'utilisateur de la valeur de x."
   ]
  },
  {
   "cell_type": "code",
   "execution_count": null,
   "metadata": {},
   "outputs": [],
   "source": [
    "# Avec saisie de la valeur de x"
   ]
  },
  {
   "cell_type": "markdown",
   "metadata": {},
   "source": [
    "## Exercice 2: Implémentation sous forme récursive de la fonction \"puissance\":\n",
    "### Attention: exercice obligatoire!\n",
    "**Écrire l’algorithme de la fonction puiss(n), de façon récursive :\n",
    "\t\t$ x^n = x^{n-1} \\cdot x \\quad $ \tavec : $ \\quad x^{n-1} = x^{n-2} \\cdot x \\quad $ etc...   \n",
    "        Jusqu'à: $ \\quad x^0 = 1$**\n",
    "         \n",
    "Compléter (ou remplacer) le code suivant:"
   ]
  },
  {
   "cell_type": "code",
   "execution_count": null,
   "metadata": {},
   "outputs": [],
   "source": [
    "def puissance (exposant):\n",
    "\"\"\" Calcul de 2 à la puissance: exposant \"\"\"\n",
    "    if exposant == 0:\n",
    "        return 1\n",
    "    else:\n",
    "        # A compléter: c'est ici que la fonction 'puissance (exposant)', doit s'appeler (avec exposant-1)\n",
    "\n",
    "exposant = int(input(\"Entrer un exposant \"))\t# Saisie utilisateur\n",
    "resultat = puissance(exposant)\t# Appel de fonction, avec passage du paramètre \"exposant\"\n",
    "print (\"2 puissance \"+ str(exposant)+\" = \"+str(resultat))\t# Affichage"
   ]
  },
  {
   "cell_type": "markdown",
   "metadata": {},
   "source": [
    "#### Variante du code précédent:   \n",
    "Adapter le code de façon à afficher le nombre d'appels de la fonction puissance, en même temps que le résultat."
   ]
  },
  {
   "cell_type": "code",
   "execution_count": null,
   "metadata": {},
   "outputs": [],
   "source": [
    "# ==> Variante, avec affichage du nombre d'appel"
   ]
  },
  {
   "cell_type": "markdown",
   "metadata": {},
   "source": [
    "## Exercice 3: Implémentation sous forme récursive de la fonction \"factorielle\":\n",
    "### Attention: exercice obligatoire!\n",
    "**Écrire l’algorithme de la fonction fact(n), de façon récursive :\n",
    "\t\t$ n ! = (n-1)! \\cdot n \\quad $  avec : $ (n-1)! = (n-2)! \\cdot (n-1) \\quad $  etc...   \n",
    "        Jusqu'à: 1!**\n",
    "        \n",
    "Compléter (ou remplacer) le code suivant:"
   ]
  },
  {
   "cell_type": "code",
   "execution_count": null,
   "metadata": {},
   "outputs": [],
   "source": [
    "def fact(n):\n",
    "    global call  # Variable globale\n",
    "    call=call+1\n",
    "    assert (n>=0), \"Le paramètre n doit être supérieur à zéro\"\n",
    "    if (n==1):\n",
    "        # A compléter (c'est la cas: 1!) \n",
    "    else:\n",
    "        # A compléter\n",
    "\n",
    "n = int(input(\"Factorielle souhaitée ? n= \"))\n",
    "call=0 # Déclaration variable\n",
    "print (\"La factorielle de {} = {}\".format(n, fact(n)))\n",
    "print (\"Nb d'appels = \",str(call))"
   ]
  },
  {
   "cell_type": "markdown",
   "metadata": {},
   "source": [
    "#### Quel est le rôle de la commande ```assert``` ?   \n",
    "Tester son fonctionnement et détailler alors la syntaxe et le comportement (ajouter une cellule ici)."
   ]
  },
  {
   "cell_type": "markdown",
   "metadata": {},
   "source": [
    "## Exercice 4: Instrumentation et harnais de traçage:\n",
    "### Attention: exercice obligatoire!\n",
    "Le résultat attendu est illustré par l'image ci-dessous:"
   ]
  },
  {
   "cell_type": "code",
   "execution_count": 17,
   "metadata": {},
   "outputs": [
    {
     "data": {
      "image/jpeg": "[encoded data removed]",
      "text/plain": [
       "<IPython.core.display.Image object>"
      ]
     },
     "execution_count": 17,
     "metadata": {
      "image/jpeg": {
       "height": 227,
       "width": 259
      }
     },
     "output_type": "execute_result"
    }
   ],
   "source": [
    "from IPython.display import Image\n",
    "Image (filename= \"HarnaisTracage.jpg\", width=259, height= 227)"
   ]
  },
  {
   "cell_type": "markdown",
   "metadata": {},
   "source": [
    "Le harnais de traçage est obtenu par l'affichage, indenté sur la droite, de chaque appel de la fonction fact(n), puis l'indentation sur la gauche lors du retour.   \n",
    "Indications: Pour créer les indentations, vous pouvez utiliser la commande: ```print (' ', end = '')```:"
   ]
  },
  {
   "cell_type": "code",
   "execution_count": 28,
   "metadata": {},
   "outputs": [
    {
     "name": "stdout",
     "output_type": "stream",
     "text": [
      "\"La rue de bucy maintenant\" est le titre d'un ... poème de Jacques Prévert.\n",
      "Il est présent dans le recueil, intitulé :\"Paroles\"\n",
      "\n",
      "\t\t\t=======☺☺☺=======☺☺☺=======☺☺☺=======☺☺☺=======☺☺☺=======\n"
     ]
    }
   ],
   "source": [
    "# A tester: modifier les \"end=...\"\n",
    "print ('\"La rue de bucy maintenant\" est le titre d\\'un ... ', end = '')\n",
    "print ('poème de Jacques Prévert.')\n",
    "print ('Il est présent dans le recueil, intitulé :', end = '')\n",
    "print ('\"Paroles\"\\n')\n",
    "nb = 7\n",
    "print (3*'\\t', end = '')\n",
    "for _ in range (5):\n",
    "    print (nb * '=', end = 3*'\\u263A')\n",
    "print (nb * '=')"
   ]
  },
  {
   "cell_type": "markdown",
   "metadata": {},
   "source": [
    "**Modifier le code de votre factorielle** (à défaut, celui du calcul de la puissance en récursif), pour intégrer le tracé du harnais:  \n",
    "* ajouter une fonction pour provoquer les indentations: indent(space), où 'space' représente le nombre d'espaces   \n",
    "* gérer la variable \"call\"\n",
    "* afficher les appels de fact(n) et ses retours.  "
   ]
  },
  {
   "cell_type": "code",
   "execution_count": 31,
   "metadata": {},
   "outputs": [],
   "source": [
    "# ==> Insérer ici votre code de la factorielle avec le tracé du harnais"
   ]
  },
  {
   "cell_type": "markdown",
   "metadata": {},
   "source": [
    "### Facultatif 1:   \n",
    "**Instrumenter votre code** pour avoir en plus du harnais, l'affichage du nombre d'appels total avec le résultat."
   ]
  },
  {
   "cell_type": "code",
   "execution_count": null,
   "metadata": {},
   "outputs": [],
   "source": [
    "# ==> Facultatif 1: Version avec affichage du nombre total d'appels."
   ]
  },
  {
   "cell_type": "markdown",
   "metadata": {},
   "source": [
    "### Facultatif 2:   \n",
    "Dans un premier temps, vous avez peut-être utilisé une ou des variables globales, comme d'ailleurs suggéré . L'utilisation des variables globales est pratique pour des codes limités, comme ici. Pour de \"vrais\" applications, l'emploi des variables globales est déconseillé.   \n",
    "**Adapter votre code** pour passer les paramètres aux fonctions sans utiliser de variable globale."
   ]
  },
  {
   "cell_type": "code",
   "execution_count": null,
   "metadata": {},
   "outputs": [],
   "source": [
    "# ==> Facultatif 2: version sans variable globale"
   ]
  },
  {
   "cell_type": "markdown",
   "metadata": {},
   "source": [
    "## Exercice 5: Vérification et correction:\n",
    "### Attention: exercice obligatoire   \n",
    "Un code, une fois testé, est susceptible d'évoluer (intégration de fonction IHM ou autre), comme c'est le cas ci-dessus. L'ajout/modification des lignes de code, peut entrainer que la fonction principale du code ne soit plus correctement assurée. Pour prévenir cela, il peut-être interressant de mettre en place des tests automatiques. Il s'agit de tests qui seront chargés de vérifier le bon fonctionnement.   \n",
    "Par exemple dans le cas d'un calcul comme celui de x à la puissance n, on pourrait comparer le résultat obtenu par notre fonction avec celui donné par la fonction puissance de python: ```x**n```.  \n",
    "**Reprendre votre code de calcul de puissance en impératif et le modifier:** de tel sorte à exploiter la fonction python: ```x**n```, pour vérifier le résultat calculé et afficher un avertissement en cas de problème.   \n",
    "Compléter le code ci-dessous ou remplacer par votre propre code."
   ]
  },
  {
   "cell_type": "code",
   "execution_count": null,
   "metadata": {},
   "outputs": [],
   "source": [
    "def puissance (exposant):\n",
    "\"\"\" Fonction qui calcule 2 à la puissance (exposant) et qui renvoie le resultat obtenu (instruction return)\"\"\"\n",
    "    resultat = 1\n",
    "    for _ in range (exposant):\n",
    "        #  A compléter \n",
    "    # ==> Mettre ici le test de comparaison entre le \"resultat\" et 2**exposant:\n",
    "        # ==> Afficher ici un avertissement, si problème dans le calcul (ou bien une validation du résultat\n",
    "        # si le calcul semble ok) \n",
    "    return resultat\n",
    "\n",
    "\n",
    "exposant = int(input(\"Entrer l'exposant de 2, souhaité:  \")) # Interface utilisateur: acquisition puissance\n",
    "resultat = puissance(exposant) # Appel de fonction, avec passage du paramètre \"exposant\"\n",
    "print (\"2 à la puissance \"+ str(exposant)+\" = \"+str(resultat)) # Affichage du résultat\n",
    "#print (\"2 puissance {} est égal à: {}\".format(exposant, resultat)) # Affichage du résultat: variante\n",
    "#print (f\"2 puissance {exposant} est égal à : {puissance (exposant)}\") # Affichage du résultat: variante"
   ]
  },
  {
   "cell_type": "markdown",
   "metadata": {},
   "source": [
    "* **Tester ce code** pour différentes valeurs de l'exposant. Remarque ?\n",
    "* **Tester ce code** pour des valeurs **négatives de l'exposant.** Remarque ?  \n",
    "Tel qu'est écrit le code précédent, ce dernier cas doit poser problème.   \n",
    "==> Une première solution peut consister à contourner le problème de l'exposant négatif, en utilisant la commande ```assert```.   \n",
    "==> Une deuxième solution, plus esthétique, consistera à faire évoluer le code afin de le rendre à même de traiter les exposants négatifs."
   ]
  },
  {
   "cell_type": "code",
   "execution_count": null,
   "metadata": {},
   "outputs": [],
   "source": [
    "# ==> solution 1: exploiter la commande \"assert\""
   ]
  },
  {
   "cell_type": "code",
   "execution_count": null,
   "metadata": {},
   "outputs": [],
   "source": [
    "# ==> solution 2: adapter le code"
   ]
  },
  {
   "cell_type": "markdown",
   "metadata": {},
   "source": [
    "### Facultatif:   \n",
    "**Reprendre le code** du calcul de la puissance en récursif et le tester avec un exposant négatif. Que se passe t-il dans le cas où le code n'a pas été prévu pour traiter les exposants négatifs ?   \n",
    "**Faire évoluer le code** afin de pouvoir traiter aussi les exposants négatifs. "
   ]
  },
  {
   "cell_type": "markdown",
   "metadata": {},
   "source": [
    "## Exercice 6: Les tests unitaires avec python   \n",
    "### Exercice obligatoire    \n",
    "Le module \"doctest\" de python, permet de faire des tests automatiques.   \n",
    "Avec ce module, les tests à effectuer sont décrits dans la \"docstring\" de la fonction: la nature de chaque test est précisée après un prompt (>>>), puis à la ligne suivante, la valeur attendue.   \n",
    "Le module \"doctest\" doit être chargé, et l'exécution du test est provoquée par l'ajout des lignes:  \n",
    "```if __name__ == '__main__':\n",
    "    doctest.testmod(verbose = True)```   \n",
    "Prenons en exemple le calcul de la distance parcourue par un objet en chute libre en fonction du temps t. Accélération subie par l'objet: g   \n",
    "Formule: distance parcourue: $z = 1/2 \\cdot g \\cdot t^2$   "
   ]
  },
  {
   "cell_type": "code",
   "execution_count": 12,
   "metadata": {},
   "outputs": [
    {
     "name": "stdout",
     "output_type": "stream",
     "text": [
      "Temps de chute (en seconde): 2\n",
      "Distance parcourue de 19.62 mètres pour une durée de chute de 2 secondes.\n"
     ]
    }
   ],
   "source": [
    "# L'exemple sans les tests:\n",
    "def distance (t):\n",
    "    \"\"\"Fonction calculant la distance parcourue par un objet en chute libre\"\"\"\n",
    "    g = 9.81\n",
    "    return 0.5*g*t**2\n",
    "\n",
    "tps = int(input(\"Temps de chute (en seconde): \")) \n",
    "print (\"Distance parcourue de {} mètres pour une durée de chute de {} secondes.\".format (distance (tps), tps))"
   ]
  },
  {
   "cell_type": "code",
   "execution_count": 8,
   "metadata": {},
   "outputs": [
    {
     "name": "stdout",
     "output_type": "stream",
     "text": [
      "Trying:\n",
      "    distance (1)\n",
      "Expecting:\n",
      "    4.905\n",
      "ok\n",
      "Trying:\n",
      "    distance (5)\n",
      "Expecting:\n",
      "    122.625\n",
      "ok\n",
      "1 items had no tests:\n",
      "    __main__\n",
      "1 items passed all tests:\n",
      "   2 tests in __main__.distance\n",
      "2 tests in 2 items.\n",
      "2 passed and 0 failed.\n",
      "Test passed.\n",
      "Temps de chute (en seconde): 12\n",
      "Distance parcourue de 706.32 mètres pour une durée de chute de 12 secondes.\n"
     ]
    }
   ],
   "source": [
    "# Version avec les tests:\n",
    "import doctest\n",
    "def distance (t):\n",
    "    \"\"\"Fonction calculant la distance parcourue par un objet en chute libre\n",
    "    >>> distance (1)\n",
    "    4.905\n",
    "    >>> distance (5)\n",
    "    122.625\n",
    "    \"\"\"\n",
    "    g = 9.81\n",
    "    return 0.5*g*t**2\n",
    "\n",
    "if __name__ == '__main__':\n",
    "    doctest.testmod(verbose = True)\n",
    "    \n",
    "tps = int(input(\"Temps de chute (en seconde): \")) \n",
    "print (\"Distance parcourue de {} mètres pour une durée de chute de {} secondes.\".format (distance (tps), tps))"
   ]
  },
  {
   "cell_type": "code",
   "execution_count": null,
   "metadata": {},
   "outputs": [],
   "source": [
    "''' A vous de jouer: Reprendre ici votre code pour du calcul de la puissance, version récursive\n",
    "et y incorporer l'exécution de tests automatiques avec le module \"doctest\" (tests unitaires)   '''"
   ]
  },
  {
   "cell_type": "markdown",
   "metadata": {},
   "source": [
    "Pour plus de détail sur l'utilisation du module \"doctest\", voir ici:\n",
    "    https://www.fil.univ-lille1.fr/~L1S2API/CoursTP/tp_doctest.html"
   ]
  },
  {
   "cell_type": "markdown",
   "metadata": {},
   "source": [
    "## Exercice 7: Gestion des erreurs \n",
    "### Exercice obligatoire   \n",
    "Même une fois que notre code est mis au point et qu'il remplit bien son rôle, des erreurs sont toujours possibles. Parfois, un utilisateur inattentif peut saisir un ou des caractères en lieu et place d'une valeur numérique (\",\" au lieu du point décimal): mauvaise saisie de l'exposant demandé dans le calcul de la puissance de x, par exemple.   \n",
    "Le script va alors générer un message d'erreur et s'arrêter.    \n",
    "Dans un langage de haut niveau comme Python, il est possible de mettre en place un mécanisme de surveillance  d'un ensemble d'instructions, afin de prévenir et traiter les erreurs et donc d'éviter de rendre celles-ci **bloquantes**.   \n",
    "La mise en place d'un tel mécanisme, dit **mécanisme de gestion des exceptions**, se fait avec Python, à l'aide des instructions: **try - except - else**.  \n",
    "La commande **try**(essayer en anglais) permet d'introduire un bloc d'instructions qui sera exécuté *sous réserve*. Si une instruction du bloc **try** génère une erreur, son exécution est annulée et c'est le bloc d'instructions associé à la commande **except** qui est alors exécuté. Au contraire, si aucune erreur n'est générée par le bloc *try*, le bloc *except* est ignoré et le bloc d'instructions **else** est exécuté. Si toutefois le bloc *else* existe, à défaut, le script continuera normalement."
   ]
  },
  {
   "cell_type": "code",
   "execution_count": 18,
   "metadata": {},
   "outputs": [
    {
     "data": {
      "image/jpeg": "[encoded data removed]",
      "text/plain": [
       "<IPython.core.display.Image object>"
      ]
     },
     "execution_count": 18,
     "metadata": {
      "image/jpeg": {
       "height": 227,
       "width": 259
      }
     },
     "output_type": "execute_result"
    }
   ],
   "source": [
    "# Illustration du mécanisme de traitement des exceptions:\n",
    "from IPython.display import Image\n",
    "Image (filename= \"TraitementExcept.jpg\", width=259, height= 227)"
   ]
  },
  {
   "cell_type": "code",
   "execution_count": 16,
   "metadata": {},
   "outputs": [
    {
     "name": "stdout",
     "output_type": "stream",
     "text": [
      "Temps de chute (en seconde) ? -2\n",
      "Temps de chute (en seconde) ? 2,3\n",
      "Saisie incorrecte, veuillez recommencer !\n",
      "Temps de chute (en seconde) ? 3\n",
      "Distance parcourue de 44.145 mètres pour une durée de chute de 3 secondes.\n"
     ]
    }
   ],
   "source": [
    "'''Exemple de traitement des exceptions'''\n",
    "def distance (t):\n",
    "    \"\"\"Fonction calculant la distance parcourue par un objet en chute libre\"\"\"\n",
    "    g = 9.81\n",
    "    return 0.5*g*t**2\n",
    "\n",
    "def saisie ():\n",
    "    ok = False\n",
    "    while not ok:\n",
    "        try:\n",
    "            nbSec = int(input(\"Temps de chute (en seconde) ? \"))\n",
    "            if nbSec >= 0:\n",
    "                ok = True\n",
    "        except: \n",
    "            print (\"Saisie incorrecte, veuillez recommencer !\")\n",
    "    return nbSec\n",
    "    \n",
    "tps = saisie () \n",
    "print (\"Distance parcourue de {} mètres pour une durée de chute de {} secondes.\".format (distance (tps), tps))"
   ]
  },
  {
   "cell_type": "code",
   "execution_count": null,
   "metadata": {},
   "outputs": [],
   "source": [
    "# A votre tour: intégrer ici le traitement des exceptions à l'un de vos scripts: puissance de x ou factorielle"
   ]
  }
 ],
 "metadata": {
  "kernelspec": {
   "display_name": "Python 3 (ipykernel)",
   "language": "python",
   "name": "python3"
  },
  "language_info": {
   "codemirror_mode": {
    "name": "ipython",
    "version": 3
   },
   "file_extension": ".py",
   "mimetype": "text/x-python",
   "name": "python",
   "nbconvert_exporter": "python",
   "pygments_lexer": "ipython3",
   "version": "3.7.3"
  }
 },
 "nbformat": 4,
 "nbformat_minor": 2
}
